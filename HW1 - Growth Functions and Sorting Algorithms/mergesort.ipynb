{
 "cells": [
  {
   "cell_type": "markdown",
   "metadata": {},
   "source": []
  },
  {
   "cell_type": "code",
   "execution_count": null,
   "metadata": {},
   "outputs": [],
   "source": []
  },
  {
   "cell_type": "code",
   "execution_count": 3,
   "metadata": {},
   "outputs": [],
   "source": [
    "## Daniel Kim\n",
    "## CS 325\n",
    "## Winter 2020\n",
    "## This class is so harddddd\n",
    "## HW1 - mergesort v1\n",
    "\n",
    "## MERGE SORT Algorithm Implementation\n"
   ]
  },
  {
   "cell_type": "code",
   "execution_count": null,
   "metadata": {},
   "outputs": [],
   "source": [
    "import random\n",
    "import math\n",
    "from time import time\n",
    "import matplotlib.pyplot as plt\n",
    "\n",
    "\n",
    "##start time\n",
    "\n",
    "timingOn = False\n",
    "\n",
    "def processTimer(timingOn=False):\n",
    "    stime = 0\n",
    "    if(timingOn):\n",
    "        stime = time()\n",
    "        main()\n",
    "        endTime = time()\n",
    "    \n",
    "    total_time = endTime - stime\n",
    "    return total_time\n",
    "    \n",
    "\n",
    "def fileUtility(file, readFlag,resultArr):\n",
    "    #read mode\n",
    "    arrRead = []\n",
    "    if readFlag == 'r':\n",
    "        with open(file,'r') as f:\n",
    "            for row in f:\n",
    "                loadedData = row.split()\n",
    "                print(loadedData)\n",
    "                arrRead = loadedData\n",
    "            print(arrRead)\n",
    "        return arrRead\n",
    "    \n",
    "    if readFlag == 'w':\n",
    "        with open('insert.out', \"w\") as output:\n",
    "            for i in range(0,len(resultArr)):\n",
    "                 for j in range(0,len(resultArr[i])):\n",
    "                    output.write(str(resultArr[i][j:]) + \" \")\n",
    "            output.write(\"\\n\")\n",
    "        return print(\"done\")\n",
    "    \n",
    "def merge_sort(unsorted_list): \n",
    "    if len(unsorted_list) == 1: \n",
    "        return unsorted_list \n",
    "\n",
    "    mid_point = int((len(unsorted_list))//2) \n",
    "\n",
    "    first_half = unsorted_list[:mid_point] \n",
    "    second_half = unsorted_list[mid_point:] \n",
    "\n",
    "    half_a = merge_sort(first_half) \n",
    "    half_b = merge_sort(second_half) \n",
    "    return merge(half_a, half_b) \n",
    "\n",
    "    i = j = 0 \n",
    "    merged_list = fileUtility(\"data.txt\",\"r\",arr1)\n",
    "    \n",
    "def merge(first_sublist, second_sublist):\n",
    "    while i < len(first_sublist) and j < len(second_sublist): \n",
    "    if first_sublist[i] < second_sublist[j]: \n",
    "        merged_list.append(first_sublist[i]) \n",
    "        i += 1 \n",
    "    else: \n",
    "         merged_list.append(second_sublist[j]) \n",
    "        j += 1 \n",
    "\n",
    "    while i < len(first_sublist): \n",
    "        merged_list.append(first_sublist[i]) \n",
    "         i += 1  \n",
    "            \n",
    "    while j < len(second_sublist): \n",
    "        merged_list.append(second_sublist[j]) \n",
    "         j += 1 \n",
    "    return merged_list \n",
    "\n",
    "def insertion_sort(a):\n",
    "    unsorted_list = a\n",
    "    for i in range(1,len(unsorted_list)):\n",
    "        current_pos = unsorted_list[i] #start at i=1\n",
    "        search_pos = i - 1\n",
    "        while(search_pos >0) and (unsorted_list[search_pos-1]> current_pos): ##left value is larger than index value\n",
    "            unsorted_list[i] = unsorted_list[i-1] #swap left / right positions\n",
    "            i = i - 1  \n",
    "            \n",
    "        unsorted_list[search_pos] = current_pos\n",
    "        sorted_list = unsorted_list\n",
    "        return sorted_list\n",
    "       "
   ]
  },
  {
   "cell_type": "code",
   "execution_count": 500,
   "metadata": {},
   "outputs": [
    {
     "name": "stdout",
     "output_type": "stream",
     "text": [
      "['10', '10', '9', '8', '7', '6', '5', '4', '3', '2', '1']\n",
      "['3', '8', '8', '8']\n",
      "['8', '1', '3', '4', '1', '4', '7', '3', '5']\n",
      "['8', '1', '3', '4', '1', '4', '7', '3', '5']\n",
      "['8', '1', '3', '4', '1', '4', '7', '3', '5']\n",
      "done\n"
     ]
    }
   ],
   "source": [
    "def main():\n",
    "    arr1 = []\n",
    "    arrRead = fileUtility(\"data.txt\",\"r\",arr1)\n",
    "    print(arrRead)\n",
    "    fileUtility(\"insert.out\", 'w',insertion_sort(arrRead))\n",
    "#Run main code        \n",
    "main()\n"
   ]
  },
  {
   "cell_type": "code",
   "execution_count": null,
   "metadata": {},
   "outputs": [],
   "source": []
  }
 ],
 "metadata": {
  "kernelspec": {
   "display_name": "Python 3",
   "language": "python",
   "name": "python3"
  },
  "language_info": {
   "codemirror_mode": {
    "name": "ipython",
    "version": 3
   },
   "file_extension": ".py",
   "mimetype": "text/x-python",
   "name": "python",
   "nbconvert_exporter": "python",
   "pygments_lexer": "ipython3",
   "version": "3.7.6"
  }
 },
 "nbformat": 4,
 "nbformat_minor": 2
}
