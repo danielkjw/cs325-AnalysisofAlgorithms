{
 "cells": [
  {
   "cell_type": "code",
   "execution_count": 1,
   "metadata": {},
   "outputs": [],
   "source": [
    "## Daniel Kim\n",
    "## CS 325\n",
    "## Winter 2020\n",
    "## This class is so harddddd\n",
    "## HW2 - BadSortTime"
   ]
  },
  {
   "cell_type": "code",
   "execution_count": 5,
   "metadata": {},
   "outputs": [
    {
     "name": "stdout",
     "output_type": "stream",
     "text": [
      "Choose Alpha value\n",
      "Alpha: 0.6666666666666666; N value: 100 Count: 1; Time: 0.10870838165283203 \n",
      "Alpha: 0.6666666666666666; N value: 200 Count: 2; Time: 0.3101987838745117 \n",
      "Alpha: 0.6666666666666666; N value: 300 Count: 3; Time: 0.9334754943847656 \n",
      "Alpha: 0.6666666666666666; N value: 500 Count: 4; Time: 8.415469646453857 \n",
      "Alpha: 0.6666666666666666; N value: 1000 Count: 5; Time: 25.111855030059814 \n"
     ]
    }
   ],
   "source": [
    "import math   #ceil function\n",
    "import numpy as np\n",
    "import time\n",
    "import random\n",
    "import sys\n",
    "\n",
    "\n",
    "sys.setrecursionlimit(10**7) \n",
    "\n",
    "\n",
    "    \n",
    "def badSort(A, alpha):\n",
    "    \n",
    "    n = len(A)\n",
    "    if((n==2) and (A[0] > A[1])):\n",
    "        A[0], A[1] = A[1], A[0]\n",
    "    elif n > 2:\n",
    "        #calculate m with ceiling\n",
    "        if(alpha == 0.75):\n",
    "            m = int(math.floor(alpha*n))\n",
    "        else:\n",
    "            m = int(math.ceil(alpha*n))\n",
    "        #1st call\n",
    "#         print(A[:m-1])\n",
    "#         if m==n and m>2:\n",
    "#             m=n-1\n",
    "        badSort(A[:m], alpha)\n",
    "        #2nd call\n",
    "#         print(A[n-m:n-1])\n",
    "        badSort(A[n-m:n], alpha)\n",
    "        #3rd call repeat of 1st\n",
    "#         print(A[:m-1])\n",
    "        badSort(A[:m], alpha)\n",
    "    return A\n",
    "\n",
    "def randint_range(n,a,b):\n",
    "    x=[]\n",
    "    for i in range(n):\n",
    "        x.append(np.random.randint(a,b))\n",
    "    return x\n",
    "\n",
    "\n",
    "def main():\n",
    "\n",
    "    # Range for random arrays\n",
    "#     n = [500, 1000, 1500, 2000, 3000]\n",
    "    n = [100, 200, 300, 500, 1000]\n",
    "#   n = [50,75]\n",
    "    size = len(n)\n",
    "    print(\"Choose Alpha value\")\n",
    "    #Alpha values\n",
    "    alpha_val1 = float(float(2)/3)\n",
    "    alpha_val2 = float(float(3)/4)\n",
    "    count = 0\n",
    "    \n",
    "    while (count < len(n)):\n",
    "        #generate n random numbers\n",
    "        test_array = randint_range(n[count],0,10000)\n",
    "        start = time.time()\n",
    "        badSort(test_array, alpha_val1)\n",
    "        end = time.time()\n",
    "        runtime = (end - start)\n",
    "        print(f\"Alpha: {alpha_val1}; N value: {len(test_array)} Count: {count + 1}; Time: {runtime} \")\n",
    "        count += 1\n",
    "main()\n"
   ]
  },
  {
   "cell_type": "code",
   "execution_count": null,
   "metadata": {},
   "outputs": [],
   "source": []
  },
  {
   "cell_type": "code",
   "execution_count": null,
   "metadata": {},
   "outputs": [],
   "source": []
  }
 ],
 "metadata": {
  "kernelspec": {
   "display_name": "Python 3",
   "language": "python",
   "name": "python3"
  },
  "language_info": {
   "codemirror_mode": {
    "name": "ipython",
    "version": 3
   },
   "file_extension": ".py",
   "mimetype": "text/x-python",
   "name": "python",
   "nbconvert_exporter": "python",
   "pygments_lexer": "ipython3",
   "version": "3.7.3"
  }
 },
 "nbformat": 4,
 "nbformat_minor": 4
}
