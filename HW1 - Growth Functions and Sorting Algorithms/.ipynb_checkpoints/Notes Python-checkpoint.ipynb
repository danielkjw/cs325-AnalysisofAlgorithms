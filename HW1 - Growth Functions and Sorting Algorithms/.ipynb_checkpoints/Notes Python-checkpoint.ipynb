{
 "cells": [
  {
   "cell_type": "code",
   "execution_count": 8,
   "metadata": {},
   "outputs": [
    {
     "name": "stdout",
     "output_type": "stream",
     "text": [
      "[<function square.<locals>.<lambda> at 0x0000022B78448C80>, <function square.<locals>.<lambda> at 0x0000022B78448BF8>, <function square.<locals>.<lambda> at 0x0000022B78448840>, <function square.<locals>.<lambda> at 0x0000022B78448598>, <function square.<locals>.<lambda> at 0x0000022B78448378>]\n",
      "<function square.<locals>.<lambda> at 0x0000022B78448C80>\n",
      "<function square.<locals>.<lambda> at 0x0000022B78448BF8>\n",
      "<function square.<locals>.<lambda> at 0x0000022B78448840>\n",
      "<function square.<locals>.<lambda> at 0x0000022B78448598>\n",
      "<function square.<locals>.<lambda> at 0x0000022B78448378>\n"
     ]
    }
   ],
   "source": [
    "def square(x): \n",
    "    return lambda: x*x\n",
    "listOfLambdas = [square(i) for i in [1,2,3,4,5]]\n",
    "print(listOfLambdas)\n",
    "for f in listOfLambdas: \n",
    "    print(f)"
   ]
  },
  {
   "cell_type": "code",
   "execution_count": 13,
   "metadata": {},
   "outputs": [
    {
     "name": "stdout",
     "output_type": "stream",
     "text": [
      "<function <listcomp>.<lambda> at 0x0000022B784DA6A8>\n",
      "<function <listcomp>.<lambda> at 0x0000022B784DA840>\n",
      "<function <listcomp>.<lambda> at 0x0000022B784DA7B8>\n",
      "<function <listcomp>.<lambda> at 0x0000022B784DAA60>\n",
      "<function <listcomp>.<lambda> at 0x0000022B784DAAE8>\n"
     ]
    }
   ],
   "source": [
    "listOfLambdas = [lambda i: i*i for i in range(1, 6)]\n",
    "for f in listOfLambdas:\n",
    "   print(str(f))"
   ]
  },
  {
   "cell_type": "code",
   "execution_count": 14,
   "metadata": {},
   "outputs": [
    {
     "name": "stdout",
     "output_type": "stream",
     "text": [
      "[[1, 2, 3, 4, 5], [1, 2, 3, 4], [1, 2, 3]]\n"
     ]
    }
   ],
   "source": [
    "a = []\n",
    "a.append([])\n",
    "a[0].append([1,2,3,4,5])\n",
    "a[0].append([1,2,3,4])\n",
    "a[0].append([1,2,3])\n",
    "[len(x) for x in a[0]]\n",
    "[5, 4, 3]\n",
    "print(a[0])"
   ]
  },
  {
   "cell_type": "code",
   "execution_count": 19,
   "metadata": {},
   "outputs": [
    {
     "name": "stdout",
     "output_type": "stream",
     "text": [
      "['hello,', 'my', 'name', 'is', 'Peter,', 'I', 'am', '26', 'years', 'old']\n",
      "hello, my name is Peter, I am 26 years old\n"
     ]
    }
   ],
   "source": [
    "txt = \"hello, my name is Peter, I am 26 years old\"\n",
    "\n",
    "x = txt.split()\n",
    "\n",
    "print(x)\n",
    "print(txt)"
   ]
  },
  {
   "cell_type": "code",
   "execution_count": 20,
   "metadata": {},
   "outputs": [
    {
     "name": "stdout",
     "output_type": "stream",
     "text": [
      "[1, 2, 3]\n",
      "[5, 7, 8]\n",
      "[1, 2, 3]\n",
      "[5, 7, 8]\n"
     ]
    }
   ],
   "source": [
    "arr1 = [[1,2,3],[5,7,8]]\n",
    "\n",
    "for x in range(0,len(arr1)):\n",
    "    for i in arr1:\n",
    "        print(i[0:])"
   ]
  },
  {
   "cell_type": "code",
   "execution_count": 21,
   "metadata": {},
   "outputs": [
    {
     "name": "stdout",
     "output_type": "stream",
     "text": [
      "1\n"
     ]
    }
   ],
   "source": [
    "len(arr1)\n",
    "\n",
    "print(arr1[0][0])"
   ]
  },
  {
   "cell_type": "code",
   "execution_count": 24,
   "metadata": {},
   "outputs": [
    {
     "name": "stdout",
     "output_type": "stream",
     "text": [
      "[4, 19, 2, 5, 11]\n",
      "[8, 1, 2, 3, 4, 5, 6, 1, 2]\n"
     ]
    }
   ],
   "source": [
    "arr1 = [[1,2,3,4],[5,6,7],[8,9]]\n",
    " \n",
    "arr2 = []\n",
    "\n",
    "with open('data2.txt','r') as f:\n",
    "    arr2 = []\n",
    "    for line in f:\n",
    "        line = line.split()\n",
    "        if line:\n",
    "            line = [int(i) for i in line]\n",
    "            print(line)\n",
    "            arr2.append(line)\n",
    "#         for n in arr2:\n",
    "#             print(str(n)[1:-1])\n",
    "            \n",
    "# for i in arr1:\n",
    "#     print(str(i)[1:-1])"
   ]
  },
  {
   "cell_type": "code",
   "execution_count": null,
   "metadata": {},
   "outputs": [],
   "source": []
  },
  {
   "cell_type": "code",
   "execution_count": null,
   "metadata": {},
   "outputs": [],
   "source": []
  }
 ],
 "metadata": {
  "kernelspec": {
   "display_name": "Python 3",
   "language": "python",
   "name": "python3"
  },
  "language_info": {
   "codemirror_mode": {
    "name": "ipython",
    "version": 3
   },
   "file_extension": ".py",
   "mimetype": "text/x-python",
   "name": "python",
   "nbconvert_exporter": "python",
   "pygments_lexer": "ipython3",
   "version": "3.7.3"
  }
 },
 "nbformat": 4,
 "nbformat_minor": 2
}
