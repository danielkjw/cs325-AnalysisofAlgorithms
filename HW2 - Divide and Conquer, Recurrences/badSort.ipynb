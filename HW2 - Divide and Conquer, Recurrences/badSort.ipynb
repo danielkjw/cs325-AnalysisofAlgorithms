{
 "cells": [
  {
   "cell_type": "code",
   "execution_count": null,
   "metadata": {},
   "outputs": [],
   "source": [
    "## Daniel Kim\n",
    "## CS 325\n",
    "## Winter 2020\n",
    "## This class is so harddddd\n",
    "## HW2 - BadSort"
   ]
  },
  {
   "cell_type": "code",
   "execution_count": 2,
   "metadata": {},
   "outputs": [
    {
     "name": "stdout",
     "output_type": "stream",
     "text": [
      "-------badSort Algorithm-------------\n",
      "To be sorted ['10 10 9 8 7 6 5 4 3 2 1\\n', '3 8 8 8\\n', '8 1 3 4 1 4 7 3 5\\n', '4 5 9 3 2']\n",
      "-------Unsorted Array-------------\n",
      "[10  9  8  7  6  5  4  3  2  1  8  8  8  1  3  4  1  4  7  3  5  5  9  3\n",
      "  2]\n",
      "-------Sorted Array-------------\n",
      "[ 1  1  1  2  2  3  3  3  3  4  4  4  5  5  5  6  7  7  8  8  8  8  9  9\n",
      " 10]\n",
      "-------File Writing Complete-------------\n"
     ]
    }
   ],
   "source": [
    "import datetime\n",
    "import math   #ceil function\n",
    "import numpy as np\n",
    "\n",
    "\n",
    "alpha_val = float(float(2)/3)\n",
    "\n",
    "    \n",
    "def badSort(A, alpha):\n",
    "    n = len(A)\n",
    "    if((n==2) and (A[0] > A[1])):\n",
    "        A[0], A[1] = A[1], A[0]\n",
    "    elif n > 2:\n",
    "        #calculate m with ceiling\n",
    "        m = int(math.ceil(alpha*n))\n",
    "        #1st call\n",
    "#         print(A[:m-1])\n",
    "        badSort(A[:m], alpha)\n",
    "        #2nd call\n",
    "#         print(A[n-m:n-1])\n",
    "        badSort(A[n-m:n], alpha)\n",
    "        #3rd call repeat of 1st\n",
    "#         print(A[:m-1])\n",
    "        badSort(A[:m], alpha)\n",
    "    return A\n",
    "\n",
    "# unsorted_array = [3,4,1,6,5,2,9]\n",
    "# unsorted_array = np.array([ 2, 4, 1, 5])\n",
    "# unsorted_array = np.array([3,4,1,6,5,2,9,7])\n",
    "# print(badSort(unsorted_array[:], alpha_val))\n",
    "# newArr = badSort(unsorted_array, alpha_val)\n",
    "\n",
    "\n",
    "def main():\n",
    "    filename = \"data.txt\"\n",
    "    unsorted_array = []\n",
    "    sorted_array = []\n",
    "    b = []\n",
    "    c = []\n",
    "    print(\"-------badSort Algorithm-------------\")\n",
    "    with open(filename, \"r\") as file:\n",
    "        read_line = file.readlines()\n",
    "        print(\"----------To be sorted----------------\")\n",
    "        print(read_line)\n",
    "        for line in  read_line:\n",
    "            for n in line.split()[1:]:\n",
    "                b.append(n)\n",
    "        unsorted_array = np.array(b).astype(int)\n",
    "        print(\"-------Unsorted Array-------------\")\n",
    "        print(unsorted_array)\n",
    "        len(unsorted_array)\n",
    "        sorted_array = np.array(badSort(unsorted_array[0:], alpha_val))\n",
    "        print(\"-------Sorted Array-------------\")\n",
    "        print(sorted_array)   \n",
    "        # Convert the result of sorted into a string\n",
    "        string = ' '.join(str(e) for e in sorted_array)\n",
    "\n",
    "    with open('bad.out.txt', 'a') as output_file:\n",
    "        output_file.write(string)\n",
    "        output_file.write('\\n')\n",
    "        print(\"-------File Writing Complete-------------\")\n",
    "\n",
    "main()\n",
    "\n",
    "\n",
    "\n"
   ]
  },
  {
   "cell_type": "code",
   "execution_count": null,
   "metadata": {},
   "outputs": [],
   "source": []
  },
  {
   "cell_type": "code",
   "execution_count": null,
   "metadata": {},
   "outputs": [],
   "source": []
  },
  {
   "cell_type": "code",
   "execution_count": null,
   "metadata": {},
   "outputs": [],
   "source": []
  },
  {
   "cell_type": "code",
   "execution_count": null,
   "metadata": {},
   "outputs": [],
   "source": []
  }
 ],
 "metadata": {
  "kernelspec": {
   "display_name": "Python 3",
   "language": "python",
   "name": "python3"
  },
  "language_info": {
   "codemirror_mode": {
    "name": "ipython",
    "version": 3
   },
   "file_extension": ".py",
   "mimetype": "text/x-python",
   "name": "python",
   "nbconvert_exporter": "python",
   "pygments_lexer": "ipython3",
   "version": "3.7.6"
  }
 },
 "nbformat": 4,
 "nbformat_minor": 2
}
