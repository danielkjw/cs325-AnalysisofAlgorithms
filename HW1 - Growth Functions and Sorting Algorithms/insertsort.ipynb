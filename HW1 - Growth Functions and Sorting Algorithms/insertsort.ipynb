{
 "cells": [
  {
   "cell_type": "code",
   "execution_count": 740,
   "metadata": {},
   "outputs": [],
   "source": [
    "## Daniel Kim\n",
    "## CS 325\n",
    "## Winter 2020\n",
    "## This class is so harddddd\n",
    "## HW1 - Insert Sort v1\n",
    "\n",
    "## INSERT SORT Algorithm Implementation"
   ]
  },
  {
   "cell_type": "code",
   "execution_count": 790,
   "metadata": {},
   "outputs": [],
   "source": [
    "import random\n",
    "import math\n",
    "from time import time\n",
    "import matplotlib.pyplot as plt\n",
    "\n",
    "\n",
    "##start time\n",
    "\n",
    "timingOn = False\n",
    "\n",
    "def processTimer(timingOn=False):\n",
    "    stime = 0\n",
    "    if(timingOn):\n",
    "        stime = time()\n",
    "        main()\n",
    "        endTime = time()\n",
    "    \n",
    "    total_time = endTime - stime\n",
    "    return total_time\n",
    "    \n",
    "\n",
    "def fileUtility(readFlag ,resultArr,*args):\n",
    "    #read mode\n",
    "    arrRead1 = []\n",
    "    arrRead1 = resultArr\n",
    "    if readFlag == 'r':\n",
    "        f = open(\"data.txt\",\"r\")\n",
    "        for line in f:\n",
    "            line = line.strip()\n",
    "            arrRead1.append(line.split())\n",
    "            print(\"READING PHASE\", arrRead1)\n",
    "            print(\"READING PHASE COMPLETE\", arrRead1[0:])\n",
    "            for i in arrRead1[0:][0:]:\n",
    "                print(i)\n",
    "        f.close()\n",
    "        return arrRead1\n",
    "    test = []\n",
    "    if readFlag == 'w':\n",
    "        test =  resultArr\n",
    "        print(\"The result \", test)\n",
    "        stream = open(\"insert.out\",'w')\n",
    "        for i in test:\n",
    "            print(i)\n",
    "            stream.write(str(i))\n",
    "            print(\"x print 2 \", x)\n",
    "        print(\"arrRead1\", arrRead1)\n",
    "        stream.close()\n",
    "        return\n",
    "\n",
    "def insertion_sort(a):\n",
    "    mylist = []\n",
    "    mylist = a\n",
    "    print(\"inside sort function:\", a)\n",
    "    for i in range(1,len(mylist)):\n",
    "        currentVal = mylist[i] #start at i=1\n",
    "        position = i\n",
    "        while(position > 0) and (mylist[position-1]> currentVal): ##left value is larger than index value\n",
    "            mylist[position] = mylist[position-1] #swap left / right positions\n",
    "            position -= 1     \n",
    "            \n",
    "        mylist[position] = currentVal\n",
    "    return mylist\n",
    "       \n",
    "        \n",
    "\n",
    "        \n",
    "        "
   ]
  },
  {
   "cell_type": "code",
   "execution_count": 792,
   "metadata": {
    "scrolled": true
   },
   "outputs": [
    {
     "name": "stdout",
     "output_type": "stream",
     "text": [
      "READING PHASE [['10', '10', '9', '8', '7', '6', '5', '4', '3', '2', '1']]\n",
      "READING PHASE COMPLETE [['10', '10', '9', '8', '7', '6', '5', '4', '3', '2', '1']]\n",
      "['10', '10', '9', '8', '7', '6', '5', '4', '3', '2', '1']\n",
      "READING PHASE [['10', '10', '9', '8', '7', '6', '5', '4', '3', '2', '1'], ['3', '8', '8', '8']]\n",
      "READING PHASE COMPLETE [['10', '10', '9', '8', '7', '6', '5', '4', '3', '2', '1'], ['3', '8', '8', '8']]\n",
      "['10', '10', '9', '8', '7', '6', '5', '4', '3', '2', '1']\n",
      "['3', '8', '8', '8']\n",
      "READING PHASE [['10', '10', '9', '8', '7', '6', '5', '4', '3', '2', '1'], ['3', '8', '8', '8'], ['8', '1', '3', '4', '1', '4', '7', '3', '5']]\n",
      "READING PHASE COMPLETE [['10', '10', '9', '8', '7', '6', '5', '4', '3', '2', '1'], ['3', '8', '8', '8'], ['8', '1', '3', '4', '1', '4', '7', '3', '5']]\n",
      "['10', '10', '9', '8', '7', '6', '5', '4', '3', '2', '1']\n",
      "['3', '8', '8', '8']\n",
      "['8', '1', '3', '4', '1', '4', '7', '3', '5']\n",
      "fOCUS [['10', '10', '9', '8', '7', '6', '5', '4', '3', '2', '1'], ['3', '8', '8', '8'], ['8', '1', '3', '4', '1', '4', '7', '3', '5']]\n",
      "inside sort function: [['10', '10', '9', '8', '7', '6', '5', '4', '3', '2', '1'], ['3', '8', '8', '8'], ['8', '1', '3', '4', '1', '4', '7', '3', '5']]\n",
      "inside sort function: ['10', '9', '8', '7', '6', '5', '4', '3', '2', '1']\n",
      "The result  <_io.TextIOWrapper name='insert.out' mode='w' encoding='cp1252'>\n"
     ]
    },
    {
     "ename": "UnsupportedOperation",
     "evalue": "not readable",
     "output_type": "error",
     "traceback": [
      "\u001b[1;31m---------------------------------------------------------------------------\u001b[0m",
      "\u001b[1;31mUnsupportedOperation\u001b[0m                      Traceback (most recent call last)",
      "\u001b[1;32m<ipython-input-792-987b0e532c8a>\u001b[0m in \u001b[0;36m<module>\u001b[1;34m\u001b[0m\n\u001b[0;32m      9\u001b[0m     \u001b[1;32mfor\u001b[0m \u001b[0mi\u001b[0m \u001b[1;32min\u001b[0m \u001b[0mrange\u001b[0m\u001b[1;33m(\u001b[0m\u001b[1;36m0\u001b[0m\u001b[1;33m,\u001b[0m\u001b[0mlen\u001b[0m\u001b[1;33m(\u001b[0m\u001b[0marr1\u001b[0m\u001b[1;33m)\u001b[0m\u001b[1;33m)\u001b[0m\u001b[1;33m:\u001b[0m\u001b[1;33m\u001b[0m\u001b[1;33m\u001b[0m\u001b[0m\n\u001b[0;32m     10\u001b[0m         \u001b[0mfileUtility\u001b[0m\u001b[1;33m(\u001b[0m\u001b[1;34m'w'\u001b[0m\u001b[1;33m,\u001b[0m \u001b[0mwriter_pad\u001b[0m\u001b[1;33m,\u001b[0m\u001b[0minsertion_sort\u001b[0m\u001b[1;33m(\u001b[0m\u001b[0marr1\u001b[0m\u001b[1;33m[\u001b[0m\u001b[0mi\u001b[0m\u001b[1;33m]\u001b[0m\u001b[1;33m[\u001b[0m\u001b[1;36m1\u001b[0m\u001b[1;33m:\u001b[0m\u001b[1;33m]\u001b[0m\u001b[1;33m)\u001b[0m\u001b[1;33m)\u001b[0m\u001b[1;33m\u001b[0m\u001b[1;33m\u001b[0m\u001b[0m\n\u001b[1;32m---> 11\u001b[1;33m \u001b[0mmain\u001b[0m\u001b[1;33m(\u001b[0m\u001b[1;33m)\u001b[0m\u001b[1;33m\u001b[0m\u001b[1;33m\u001b[0m\u001b[0m\n\u001b[0m",
      "\u001b[1;32m<ipython-input-792-987b0e532c8a>\u001b[0m in \u001b[0;36mmain\u001b[1;34m()\u001b[0m\n\u001b[0;32m      8\u001b[0m     \u001b[0mwriter_pad\u001b[0m \u001b[1;33m=\u001b[0m \u001b[0mopen\u001b[0m\u001b[1;33m(\u001b[0m\u001b[1;34m'insert.out'\u001b[0m\u001b[1;33m,\u001b[0m\u001b[1;34m'w'\u001b[0m\u001b[1;33m)\u001b[0m\u001b[1;33m\u001b[0m\u001b[1;33m\u001b[0m\u001b[0m\n\u001b[0;32m      9\u001b[0m     \u001b[1;32mfor\u001b[0m \u001b[0mi\u001b[0m \u001b[1;32min\u001b[0m \u001b[0mrange\u001b[0m\u001b[1;33m(\u001b[0m\u001b[1;36m0\u001b[0m\u001b[1;33m,\u001b[0m\u001b[0mlen\u001b[0m\u001b[1;33m(\u001b[0m\u001b[0marr1\u001b[0m\u001b[1;33m)\u001b[0m\u001b[1;33m)\u001b[0m\u001b[1;33m:\u001b[0m\u001b[1;33m\u001b[0m\u001b[1;33m\u001b[0m\u001b[0m\n\u001b[1;32m---> 10\u001b[1;33m         \u001b[0mfileUtility\u001b[0m\u001b[1;33m(\u001b[0m\u001b[1;34m'w'\u001b[0m\u001b[1;33m,\u001b[0m \u001b[0mwriter_pad\u001b[0m\u001b[1;33m,\u001b[0m\u001b[0minsertion_sort\u001b[0m\u001b[1;33m(\u001b[0m\u001b[0marr1\u001b[0m\u001b[1;33m[\u001b[0m\u001b[0mi\u001b[0m\u001b[1;33m]\u001b[0m\u001b[1;33m[\u001b[0m\u001b[1;36m1\u001b[0m\u001b[1;33m:\u001b[0m\u001b[1;33m]\u001b[0m\u001b[1;33m)\u001b[0m\u001b[1;33m)\u001b[0m\u001b[1;33m\u001b[0m\u001b[1;33m\u001b[0m\u001b[0m\n\u001b[0m\u001b[0;32m     11\u001b[0m \u001b[0mmain\u001b[0m\u001b[1;33m(\u001b[0m\u001b[1;33m)\u001b[0m\u001b[1;33m\u001b[0m\u001b[1;33m\u001b[0m\u001b[0m\n",
      "\u001b[1;32m<ipython-input-790-221d04fb318b>\u001b[0m in \u001b[0;36mfileUtility\u001b[1;34m(readFlag, resultArr, *args)\u001b[0m\n\u001b[0;32m     40\u001b[0m         \u001b[0mprint\u001b[0m\u001b[1;33m(\u001b[0m\u001b[1;34m\"The result \"\u001b[0m\u001b[1;33m,\u001b[0m \u001b[0mtest\u001b[0m\u001b[1;33m)\u001b[0m\u001b[1;33m\u001b[0m\u001b[1;33m\u001b[0m\u001b[0m\n\u001b[0;32m     41\u001b[0m         \u001b[0mstream\u001b[0m \u001b[1;33m=\u001b[0m \u001b[0mopen\u001b[0m\u001b[1;33m(\u001b[0m\u001b[1;34m\"insert.out\"\u001b[0m\u001b[1;33m,\u001b[0m\u001b[1;34m'w'\u001b[0m\u001b[1;33m)\u001b[0m\u001b[1;33m\u001b[0m\u001b[1;33m\u001b[0m\u001b[0m\n\u001b[1;32m---> 42\u001b[1;33m         \u001b[1;32mfor\u001b[0m \u001b[0mi\u001b[0m \u001b[1;32min\u001b[0m \u001b[0mtest\u001b[0m\u001b[1;33m:\u001b[0m\u001b[1;33m\u001b[0m\u001b[1;33m\u001b[0m\u001b[0m\n\u001b[0m\u001b[0;32m     43\u001b[0m             \u001b[0mprint\u001b[0m\u001b[1;33m(\u001b[0m\u001b[0mi\u001b[0m\u001b[1;33m)\u001b[0m\u001b[1;33m\u001b[0m\u001b[1;33m\u001b[0m\u001b[0m\n\u001b[0;32m     44\u001b[0m             \u001b[0mstream\u001b[0m\u001b[1;33m.\u001b[0m\u001b[0mwrite\u001b[0m\u001b[1;33m(\u001b[0m\u001b[0mstr\u001b[0m\u001b[1;33m(\u001b[0m\u001b[0mi\u001b[0m\u001b[1;33m)\u001b[0m\u001b[1;33m)\u001b[0m\u001b[1;33m\u001b[0m\u001b[1;33m\u001b[0m\u001b[0m\n",
      "\u001b[1;31mUnsupportedOperation\u001b[0m: not readable"
     ]
    }
   ],
   "source": [
    "#initiate file opening, reading\n",
    "#     (lambda x: print(fileUtility(fileName,'r')))\n",
    "def main():\n",
    "    arr1=[]\n",
    "    arr1 = fileUtility(\"r\",arr1)\n",
    "    print(\"fOCUS\" , arr1)\n",
    "    insertion_sort(arr1)\n",
    "    writer_pad = open('insert.out','w')\n",
    "    for i in range(0,len(arr1)): \n",
    "        fileUtility('w', writer_pad,insertion_sort(arr1[i][1:]))\n",
    "main()"
   ]
  },
  {
   "cell_type": "markdown",
   "metadata": {},
   "source": [
    " "
   ]
  },
  {
   "cell_type": "code",
   "execution_count": null,
   "metadata": {},
   "outputs": [],
   "source": []
  },
  {
   "cell_type": "code",
   "execution_count": null,
   "metadata": {},
   "outputs": [],
   "source": []
  },
  {
   "cell_type": "code",
   "execution_count": null,
   "metadata": {},
   "outputs": [],
   "source": []
  },
  {
   "cell_type": "code",
   "execution_count": null,
   "metadata": {},
   "outputs": [],
   "source": []
  }
 ],
 "metadata": {
  "kernelspec": {
   "display_name": "Python 3",
   "language": "python",
   "name": "python3"
  },
  "language_info": {
   "codemirror_mode": {
    "name": "ipython",
    "version": 3
   },
   "file_extension": ".py",
   "mimetype": "text/x-python",
   "name": "python",
   "nbconvert_exporter": "python",
   "pygments_lexer": "ipython3",
   "version": "3.7.3"
  }
 },
 "nbformat": 4,
 "nbformat_minor": 2
}
